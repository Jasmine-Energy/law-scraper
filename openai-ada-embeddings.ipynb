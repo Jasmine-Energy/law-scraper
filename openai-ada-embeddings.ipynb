{
 "cells": [
  {
   "cell_type": "code",
   "execution_count": 7,
   "id": "e893741e-7823-41f9-b755-7cbb55a0e5db",
   "metadata": {},
   "outputs": [],
   "source": [
    "import pandas as pd\n",
    "import glob\n",
    "import pickle\n",
    "\n",
    "from os import path\n",
    "from openai import OpenAI\n",
    "\n",
    "import torch\n",
    "\n",
    "from transformers import AutoTokenizer, AutoModel\n",
    "\n",
    "\n",
    "client = OpenAI()\n",
    "\n",
    "def get_embedding(text, model=\"text-embedding-ada-002\"):\n",
    "   text = text.replace(\"\\n\", \" \")\n",
    "   return client.embeddings.create(input = [text], model=model).data[0].embedding"
   ]
  },
  {
   "cell_type": "code",
   "execution_count": 8,
   "id": "d1d81ef0-7ea2-42ad-a3f8-25b8beb8d405",
   "metadata": {},
   "outputs": [],
   "source": [
    "def split_string(input_string, chunk_size=20000):\n",
    "    return [input_string[i:i + chunk_size] for i in range(0, len(input_string), chunk_size)]"
   ]
  },
  {
   "cell_type": "code",
   "execution_count": 15,
   "id": "0fe8486a-4d0e-436c-9637-5e929611f4a4",
   "metadata": {},
   "outputs": [],
   "source": [
    "def read_texts():\n",
    "\n",
    "    texts, metadatas, results, file_names = [], [], [], []\n",
    "    for file_path in glob.glob('data/*.txt'):\n",
    "\n",
    "        file_name, _ = path.splitext(path.basename(file_path))\n",
    "        data = dict(param.split('=') for param in file_name.split('&'))\n",
    "\n",
    "        with open(file_path) as file:\n",
    "            text = file.read()\n",
    "            for splitted in split_string(text):\n",
    "                data['text'] = splitted\n",
    "                file_names.append(file_name)\n",
    "                results.append(data)\n",
    "\n",
    "    return file_names, results"
   ]
  },
  {
   "cell_type": "code",
   "execution_count": null,
   "id": "d42c6264-e24e-466b-aafa-4a179763cea6",
   "metadata": {},
   "outputs": [],
   "source": []
  },
  {
   "cell_type": "code",
   "execution_count": 16,
   "id": "12d0dc99-2417-4855-ab01-6c672fac4b16",
   "metadata": {},
   "outputs": [],
   "source": [
    "file_names, results = read_texts()\n",
    "df = pd.DataFrame.from_records(results, index=file_names)"
   ]
  },
  {
   "cell_type": "code",
   "execution_count": null,
   "id": "5e069dbd-a332-4163-8719-b7aa0411b101",
   "metadata": {},
   "outputs": [],
   "source": [
    "for index, row in df.iterrows():\n",
    "    embedding = get_embedding(row['text'])\n",
    "    with open(f'data/embedding-ada-002-{index}.pkl', 'wb') as file:\n",
    "        pickle.dump(embedding, file)"
   ]
  },
  {
   "cell_type": "code",
   "execution_count": null,
   "id": "21d62c94-6c20-4b90-9ad9-1a146edb3edb",
   "metadata": {},
   "outputs": [],
   "source": []
  }
 ],
 "metadata": {
  "kernelspec": {
   "display_name": "Python 3 (ipykernel)",
   "language": "python",
   "name": "python3"
  },
  "language_info": {
   "codemirror_mode": {
    "name": "ipython",
    "version": 3
   },
   "file_extension": ".py",
   "mimetype": "text/x-python",
   "name": "python",
   "nbconvert_exporter": "python",
   "pygments_lexer": "ipython3",
   "version": "3.10.0"
  }
 },
 "nbformat": 4,
 "nbformat_minor": 5
}
